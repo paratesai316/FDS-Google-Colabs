{
  "nbformat": 4,
  "nbformat_minor": 0,
  "metadata": {
    "colab": {
      "provenance": [],
      "authorship_tag": "ABX9TyNiQlKWJUFq/nhle9Jmi0ni",
      "include_colab_link": true
    },
    "kernelspec": {
      "name": "python3",
      "display_name": "Python 3"
    },
    "language_info": {
      "name": "python"
    }
  },
  "cells": [
    {
      "cell_type": "markdown",
      "metadata": {
        "id": "view-in-github",
        "colab_type": "text"
      },
      "source": [
        "<a href=\"https://colab.research.google.com/github/paratesai316/FDS-Google-Colabs/blob/main/RA2411056010288_unit4.ipynb\" target=\"_parent\"><img src=\"https://colab.research.google.com/assets/colab-badge.svg\" alt=\"Open In Colab\"/></a>"
      ]
    },
    {
      "cell_type": "code",
      "execution_count": 2,
      "metadata": {
        "colab": {
          "base_uri": "https://localhost:8080/"
        },
        "id": "ah4BhCyiyvW7",
        "outputId": "84dd4422-619c-442e-9ed2-a13cc821e6fe"
      },
      "outputs": [
        {
          "output_type": "stream",
          "name": "stdout",
          "text": [
            "x    1\n",
            "y    7\n",
            "z    2\n",
            "dtype: int64\n"
          ]
        }
      ],
      "source": [
        "import pandas as pd\n",
        "a = [1,7,2]\n",
        "myvar = pd.Series(a,index=['x','y','z'])\n",
        "print(myvar)"
      ]
    },
    {
      "cell_type": "code",
      "source": [
        "import pandas as pd\n",
        "calories = {\"day1\": 420, \"day2\": 380, \"day3\": 390}\n",
        "myvar = pd.Series(calories)\n",
        "print(myvar)"
      ],
      "metadata": {
        "colab": {
          "base_uri": "https://localhost:8080/"
        },
        "id": "G8btRX2Rz74H",
        "outputId": "350f0280-6da3-4285-dc72-e58e72cceec8"
      },
      "execution_count": 3,
      "outputs": [
        {
          "output_type": "stream",
          "name": "stdout",
          "text": [
            "day1    420\n",
            "day2    380\n",
            "day3    390\n",
            "dtype: int64\n"
          ]
        }
      ]
    },
    {
      "cell_type": "code",
      "source": [
        "import pandas as pd\n",
        "lst = ['Foundations','of','Datascience','is','a','very','interesting','subject']\n",
        "df=pd.DataFrame(lst)\n",
        "print(df)"
      ],
      "metadata": {
        "colab": {
          "base_uri": "https://localhost:8080/"
        },
        "id": "u2QyJe_N0x2N",
        "outputId": "b6a27d6b-cc1c-46a0-bcbe-0374a0313258"
      },
      "execution_count": 4,
      "outputs": [
        {
          "output_type": "stream",
          "name": "stdout",
          "text": [
            "             0\n",
            "0  Foundations\n",
            "1           of\n",
            "2  Datascience\n",
            "3           is\n",
            "4            a\n",
            "5         very\n",
            "6  interesting\n",
            "7      subject\n"
          ]
        }
      ]
    },
    {
      "cell_type": "code",
      "source": [
        "import pandas as pd\n",
        "lst = ['Foundations','of','Datascience','is','a','very','interesting','subject']\n",
        "data = {\"calories\":[420,380,390],\"duration\":[50,40,45]}\n",
        "df = pd.DataFrame(data)\n",
        "print(df)\n",
        "df1 = pd.DataFrame(lst)\n",
        "print(df1)"
      ],
      "metadata": {
        "colab": {
          "base_uri": "https://localhost:8080/"
        },
        "id": "i6Rdk_E914rS",
        "outputId": "73c92571-94a9-4544-d3a5-56a727db823f"
      },
      "execution_count": 5,
      "outputs": [
        {
          "output_type": "stream",
          "name": "stdout",
          "text": [
            "   calories  duration\n",
            "0       420        50\n",
            "1       380        40\n",
            "2       390        45\n",
            "             0\n",
            "0  Foundations\n",
            "1           of\n",
            "2  Datascience\n",
            "3           is\n",
            "4            a\n",
            "5         very\n",
            "6  interesting\n",
            "7      subject\n"
          ]
        }
      ]
    },
    {
      "cell_type": "code",
      "source": [
        "import pandas as pd\n",
        "player_list = [['M S Dhoni',36,75,5428000],\n",
        "               ['A B D Villers',38,74,3428000],\n",
        "               ['V Kohli',31,70,8428000],\n",
        "               ['S Smith',34,80,4428000],\n",
        "               ['C Gayle',40,100,4528000],\n",
        "               ['J Root',33,72,7028000],\n",
        "               ['K Peterson',42,85,2528000]]\n",
        "\n",
        "df1 = pd.DataFrame(player_list,columns=['Name','Age','Weight','Salary'])\n",
        "print(df1,\"\\n\\n\")\n",
        "df2 = df.iloc[0:4]\n",
        "print(df2,\"\\n\\n\")\n",
        "df3 = df.loc[:,'Name':'Age']\n",
        "print(df3)"
      ],
      "metadata": {
        "colab": {
          "base_uri": "https://localhost:8080/"
        },
        "id": "7z5qsNWb2bq_",
        "outputId": "4c0227da-00da-4feb-e0d0-d8ffe727c638"
      },
      "execution_count": 6,
      "outputs": [
        {
          "output_type": "stream",
          "name": "stdout",
          "text": [
            "            Name  Age  Weight   Salary\n",
            "0      M S Dhoni   36      75  5428000\n",
            "1  A B D Villers   38      74  3428000\n",
            "2        V Kohli   31      70  8428000\n",
            "3        S Smith   34      80  4428000\n",
            "4        C Gayle   40     100  4528000\n",
            "5         J Root   33      72  7028000\n",
            "6     K Peterson   42      85  2528000 \n",
            "\n",
            "\n",
            "   calories  duration\n",
            "0       420        50\n",
            "1       380        40\n",
            "2       390        45 \n",
            "\n",
            "\n",
            "Empty DataFrame\n",
            "Columns: []\n",
            "Index: [0, 1, 2]\n"
          ]
        }
      ]
    },
    {
      "cell_type": "code",
      "source": [
        "import pandas as pd\n",
        "\n",
        "data = {'Name':['Jai','Princi','Gaurav','Anuj'],\n",
        "        'Age':[27,24,22,32],\n",
        "        'Address':['Delhi','Kanpur','Allahabad','Kannauj'],\n",
        "        'Qualification':['Msc','MA','MCA','Phd']}\n",
        "\n",
        "df = pd.DataFrame(data)\n",
        "print(df,\"\\n\\n\")\n",
        "print(df.loc[1:3,['Name','Qualification']],\"\\n\\n\")\n",
        "print(df.loc[0:1,'Name':'Address'],\"\\n\\n\")"
      ],
      "metadata": {
        "colab": {
          "base_uri": "https://localhost:8080/"
        },
        "id": "ooghycoN6ALy",
        "outputId": "1ec2ef51-c368-4276-a270-e24636e9ec8a"
      },
      "execution_count": 7,
      "outputs": [
        {
          "output_type": "stream",
          "name": "stdout",
          "text": [
            "     Name  Age    Address Qualification\n",
            "0     Jai   27      Delhi           Msc\n",
            "1  Princi   24     Kanpur            MA\n",
            "2  Gaurav   22  Allahabad           MCA\n",
            "3    Anuj   32    Kannauj           Phd \n",
            "\n",
            "\n",
            "     Name Qualification\n",
            "1  Princi            MA\n",
            "2  Gaurav           MCA\n",
            "3    Anuj           Phd \n",
            "\n",
            "\n",
            "     Name  Age Address\n",
            "0     Jai   27   Delhi\n",
            "1  Princi   24  Kanpur \n",
            "\n",
            "\n"
          ]
        }
      ]
    },
    {
      "cell_type": "code",
      "source": [
        "import pandas as pd\n",
        "data = {'name': ['jai','Prince','Gaurav','Anuj'],\n",
        "        'Height': [5.1,6.2,5.1,5.2],\n",
        "        'Qualification': ['Msc','MA','Msc','Msc']}\n",
        "df = pd.DataFrame(data)\n",
        "address = ['Delhi','Kanpur','Allahabad','Kannauj']\n",
        "df['Address']=address\n",
        "print(df)"
      ],
      "metadata": {
        "colab": {
          "base_uri": "https://localhost:8080/"
        },
        "id": "yH_0epK5ACX6",
        "outputId": "4e10969c-bad2-411b-84aa-db1b77a033a9"
      },
      "execution_count": 8,
      "outputs": [
        {
          "output_type": "stream",
          "name": "stdout",
          "text": [
            "     name  Height Qualification    Address\n",
            "0     jai     5.1           Msc      Delhi\n",
            "1  Prince     6.2            MA     Kanpur\n",
            "2  Gaurav     5.1           Msc  Allahabad\n",
            "3    Anuj     5.2           Msc    Kannauj\n"
          ]
        }
      ]
    },
    {
      "cell_type": "code",
      "source": [
        "import pandas as pd\n",
        "import numpy as np\n",
        "df1 = {'Name':['PersonA','PersonB','PersonC','PersonD','PersonE'],\n",
        "       'Maths':[69,73,84,56,94],\n",
        "       'Science':[95,62,78,76,67]}\n",
        "df1 = pd.DataFrame(df1)\n",
        "df1['Average'] = df1[['Maths', 'Science']].mean(axis=1)\n",
        "print(df1,\"\\n\\n\")\n",
        "print(df1[(df1['Maths'] > 60)  & (df1['Science'] > 75)],\"\\n\\n\")\n",
        "print(\"Student with highest averages: \")\n",
        "print(df1.iloc[np.argmax(df1['Average'])])"
      ],
      "metadata": {
        "colab": {
          "base_uri": "https://localhost:8080/"
        },
        "id": "HgF4TJAPptiG",
        "outputId": "55348410-263d-4ceb-d924-5ade95b8cdaa"
      },
      "execution_count": 9,
      "outputs": [
        {
          "output_type": "stream",
          "name": "stdout",
          "text": [
            "      Name  Maths  Science  Average\n",
            "0  PersonA     69       95     82.0\n",
            "1  PersonB     73       62     67.5\n",
            "2  PersonC     84       78     81.0\n",
            "3  PersonD     56       76     66.0\n",
            "4  PersonE     94       67     80.5 \n",
            "\n",
            "\n",
            "      Name  Maths  Science  Average\n",
            "0  PersonA     69       95     82.0\n",
            "2  PersonC     84       78     81.0 \n",
            "\n",
            "\n",
            "Student with highest averages: \n",
            "Name       PersonA\n",
            "Maths           69\n",
            "Science         95\n",
            "Average       82.0\n",
            "Name: 0, dtype: object\n"
          ]
        }
      ]
    },
    {
      "cell_type": "code",
      "source": [
        "import pandas as pd\n",
        "import numpy as np\n",
        "data = {\n",
        "    'Department' : ['HR','IT','HR','Finance','IT','Finance'],\n",
        "    'Employee' : ['Alice','Bob','Charlie','David','Eve','Frank'],\n",
        "    'Salary' : [50000,70000,55000,60000,75000,65000],\n",
        "    'Experience' : [2,5,3,4,6,5]\n",
        "  }\n",
        "\n",
        "df = pd.DataFrame(data)\n",
        "print(df,\"\\n\\n\")\n",
        "\n",
        "print(\"Average salary for each department\\n\")\n",
        "grouped1 = df.groupby('Department')['Salary'].mean()\n",
        "print(grouped1,\"\\n\\n\")\n",
        "\n",
        "print(\"Total salary paid for each department\\n\")\n",
        "grouped2 = df.groupby('Department')['Salary'].sum()\n",
        "print(grouped2,\"\\n\\n\")\n",
        "\n",
        "print(\"Aggregate for mean, sum, count, std dev in same table\")\n",
        "grouped3 = df.groupby('Department')['Salary'].agg(['mean','sum','count','std'])\n",
        "print(grouped3,\"\\n\\n\")\n",
        "\n",
        "print(\"Different aggregations for different columns\")\n",
        "grouped4 = df.groupby('Department').agg({\n",
        "    'Salary' : ['mean','max'],\n",
        "    'Experience' : ['mean','min']\n",
        "})\n",
        "print(grouped4,\"\\n\\n\")"
      ],
      "metadata": {
        "colab": {
          "base_uri": "https://localhost:8080/"
        },
        "id": "gh5OqVXoXs8A",
        "outputId": "19264be4-a16d-4ce3-d935-57606dcf93b1"
      },
      "execution_count": 10,
      "outputs": [
        {
          "output_type": "stream",
          "name": "stdout",
          "text": [
            "  Department Employee  Salary  Experience\n",
            "0         HR    Alice   50000           2\n",
            "1         IT      Bob   70000           5\n",
            "2         HR  Charlie   55000           3\n",
            "3    Finance    David   60000           4\n",
            "4         IT      Eve   75000           6\n",
            "5    Finance    Frank   65000           5 \n",
            "\n",
            "\n",
            "Average salary for each department\n",
            "\n",
            "Department\n",
            "Finance    62500.0\n",
            "HR         52500.0\n",
            "IT         72500.0\n",
            "Name: Salary, dtype: float64 \n",
            "\n",
            "\n",
            "Total salary paid for each department\n",
            "\n",
            "Department\n",
            "Finance    125000\n",
            "HR         105000\n",
            "IT         145000\n",
            "Name: Salary, dtype: int64 \n",
            "\n",
            "\n",
            "Aggregate for mean, sum, count, std dev in same table\n",
            "               mean     sum  count          std\n",
            "Department                                     \n",
            "Finance     62500.0  125000      2  3535.533906\n",
            "HR          52500.0  105000      2  3535.533906\n",
            "IT          72500.0  145000      2  3535.533906 \n",
            "\n",
            "\n",
            "Different aggregations for different columns\n",
            "             Salary        Experience    \n",
            "               mean    max       mean min\n",
            "Department                               \n",
            "Finance     62500.0  65000        4.5   4\n",
            "HR          52500.0  55000        2.5   2\n",
            "IT          72500.0  75000        5.5   5 \n",
            "\n",
            "\n"
          ]
        }
      ]
    },
    {
      "cell_type": "code",
      "source": [
        "data_extended = {\n",
        "    'Department' : ['HR','IT','HR','Finance','IT','Finance','HR','IT'],\n",
        "    'Location' : ['NY', 'SF', 'NY', 'NY', 'SF', 'SF', 'SF', 'NY'],\n",
        "    'Salary' : [50000,70000,55000,60000,75000,65000,58000, 72000],\n",
        "    'Experience' : [2,5,3,4,6,5,4,5]\n",
        "}\n",
        "df_extended = pd.DataFrame(data_extended)\n",
        "print(df_extended,\"\\n\\n\")\n",
        "\n",
        "\n",
        "grouped1 = df_extended.groupby(['Department','Location'])['Salary'].mean()\n",
        "print(grouped1,\"\\n\\n\")\n",
        "\n",
        "grouped2 = df.groupby('Department').agg(\n",
        "    avg_salary = ('Salary','mean'),\n",
        "    total_salary = ('Salary','sum'),\n",
        "    employee_count = ('Employee','count'),\n",
        "    max_experience = ('Experience','max')\n",
        ")\n",
        "print(grouped2,\"\\n\\n\")\n",
        "\n",
        "def salary_range (series) :\n",
        "  return series.max() - series.min()\n",
        "\n",
        "grouped3 = df.groupby('Department').agg({\n",
        "    'Salary' : [salary_range,'mean'],\n",
        "    'Experience' : ['mean','std']\n",
        "})\n",
        "print(grouped3, \"\\n\\n\")"
      ],
      "metadata": {
        "colab": {
          "base_uri": "https://localhost:8080/"
        },
        "id": "ABzypDutbQ0x",
        "outputId": "9ab06dab-9434-4bb6-f1e2-b246b928831e"
      },
      "execution_count": 11,
      "outputs": [
        {
          "output_type": "stream",
          "name": "stdout",
          "text": [
            "  Department Location  Salary  Experience\n",
            "0         HR       NY   50000           2\n",
            "1         IT       SF   70000           5\n",
            "2         HR       NY   55000           3\n",
            "3    Finance       NY   60000           4\n",
            "4         IT       SF   75000           6\n",
            "5    Finance       SF   65000           5\n",
            "6         HR       SF   58000           4\n",
            "7         IT       NY   72000           5 \n",
            "\n",
            "\n",
            "Department  Location\n",
            "Finance     NY          60000.0\n",
            "            SF          65000.0\n",
            "HR          NY          52500.0\n",
            "            SF          58000.0\n",
            "IT          NY          72000.0\n",
            "            SF          72500.0\n",
            "Name: Salary, dtype: float64 \n",
            "\n",
            "\n",
            "            avg_salary  total_salary  employee_count  max_experience\n",
            "Department                                                          \n",
            "Finance        62500.0        125000               2               5\n",
            "HR             52500.0        105000               2               3\n",
            "IT             72500.0        145000               2               6 \n",
            "\n",
            "\n",
            "                 Salary          Experience          \n",
            "           salary_range     mean       mean       std\n",
            "Department                                           \n",
            "Finance            5000  62500.0        4.5  0.707107\n",
            "HR                 5000  52500.0        2.5  0.707107\n",
            "IT                 5000  72500.0        5.5  0.707107 \n",
            "\n",
            "\n"
          ]
        }
      ]
    },
    {
      "cell_type": "code",
      "source": [
        "Filtered = df.groupby('Department').filter(lambda x: x['Salary'].mean() > 60000)\n",
        "print(Filtered)"
      ],
      "metadata": {
        "colab": {
          "base_uri": "https://localhost:8080/"
        },
        "id": "yqLyIT--4cAq",
        "outputId": "d8a52853-735f-489d-f9e6-d1f11d3733d6"
      },
      "execution_count": 12,
      "outputs": [
        {
          "output_type": "stream",
          "name": "stdout",
          "text": [
            "  Department Employee  Salary  Experience\n",
            "1         IT      Bob   70000           5\n",
            "3    Finance    David   60000           4\n",
            "4         IT      Eve   75000           6\n",
            "5    Finance    Frank   65000           5\n"
          ]
        }
      ]
    },
    {
      "cell_type": "code",
      "source": [
        "def salary_category(salary):\n",
        "  if salary <55000:\n",
        "    return 'Low'\n",
        "  elif salary <70000:\n",
        "    return 'Medium'\n",
        "  else:\n",
        "    return 'High'\n",
        "df['Salary_Category']=df['Salary'].apply(salary_category)\n",
        "print(df)"
      ],
      "metadata": {
        "colab": {
          "base_uri": "https://localhost:8080/"
        },
        "id": "_T1Li8Qn7IrE",
        "outputId": "7e9e80aa-a020-4ef1-a5d5-3ffc9119be95"
      },
      "execution_count": 13,
      "outputs": [
        {
          "output_type": "stream",
          "name": "stdout",
          "text": [
            "  Department Employee  Salary  Experience Salary_Category\n",
            "0         HR    Alice   50000           2             Low\n",
            "1         IT      Bob   70000           5            High\n",
            "2         HR  Charlie   55000           3          Medium\n",
            "3    Finance    David   60000           4          Medium\n",
            "4         IT      Eve   75000           6            High\n",
            "5    Finance    Frank   65000           5          Medium\n"
          ]
        }
      ]
    },
    {
      "cell_type": "code",
      "source": [
        "#create a time series data\n",
        "dates= pd.date_range('2023-01-01',periods=100,freq='ME')\n",
        "ts_data=pd.DataFrame({\n",
        "    'date':dates,\n",
        "    'category':np.random.choice(['A','B','C'],100),\n",
        "    'value':np.random.randint(1,100,100)\n",
        "})\n",
        "print(ts_data,'\\n\\n')\n",
        "#group by month\n",
        "ts_data['month']=ts_data['date'].dt.month\n",
        "monthly_avg=ts_data.groupby(['month','category'])['value'].mean()\n",
        "print(monthly_avg)"
      ],
      "metadata": {
        "colab": {
          "base_uri": "https://localhost:8080/"
        },
        "id": "ov5RuQ4k708k",
        "outputId": "e1b47835-d409-49df-fb61-b3c620267d14"
      },
      "execution_count": 18,
      "outputs": [
        {
          "output_type": "stream",
          "name": "stdout",
          "text": [
            "         date category  value\n",
            "0  2023-01-31        A     19\n",
            "1  2023-02-28        C     10\n",
            "2  2023-03-31        C     15\n",
            "3  2023-04-30        A     59\n",
            "4  2023-05-31        A     82\n",
            "..        ...      ...    ...\n",
            "95 2030-12-31        B     28\n",
            "96 2031-01-31        B     62\n",
            "97 2031-02-28        B     79\n",
            "98 2031-03-31        B      9\n",
            "99 2031-04-30        C     74\n",
            "\n",
            "[100 rows x 3 columns] \n",
            "\n",
            "\n",
            "month  category\n",
            "1      A           52.666667\n",
            "       B           57.500000\n",
            "       C           46.500000\n",
            "2      A           93.000000\n",
            "       B           49.500000\n",
            "       C           20.750000\n",
            "3      A           57.333333\n",
            "       B           51.500000\n",
            "       C           45.750000\n",
            "4      A           40.666667\n",
            "       C           45.333333\n",
            "5      A           50.500000\n",
            "       B           72.000000\n",
            "       C           39.500000\n",
            "6      A           25.500000\n",
            "       B           45.750000\n",
            "       C           78.000000\n",
            "7      A           30.333333\n",
            "       B           44.500000\n",
            "       C           60.333333\n",
            "8      B           48.000000\n",
            "       C           42.000000\n",
            "9      A           20.000000\n",
            "       B           72.000000\n",
            "       C           76.666667\n",
            "10     A           55.333333\n",
            "       B           10.000000\n",
            "       C           36.666667\n",
            "11     A           53.000000\n",
            "       B           82.666667\n",
            "       C           80.000000\n",
            "12     A           87.500000\n",
            "       B           41.500000\n",
            "       C           57.000000\n",
            "Name: value, dtype: float64\n"
          ]
        }
      ]
    },
    {
      "cell_type": "code",
      "source": [],
      "metadata": {
        "id": "vxgsjpIAA2gY"
      },
      "execution_count": null,
      "outputs": []
    }
  ]
}