{
  "cells": [
    {
      "cell_type": "markdown",
      "metadata": {
        "id": "view-in-github",
        "colab_type": "text"
      },
      "source": [
        "<a href=\"https://colab.research.google.com/github/paratesai316/FDS-Google-Colabs/blob/main/RA2411056010288_unit2.ipynb\" target=\"_parent\"><img src=\"https://colab.research.google.com/assets/colab-badge.svg\" alt=\"Open In Colab\"/></a>"
      ]
    },
    {
      "cell_type": "code",
      "execution_count": null,
      "metadata": {
        "colab": {
          "base_uri": "https://localhost:8080/"
        },
        "id": "AL3WyJy9siEZ",
        "outputId": "9a52f853-7bf6-42b7-b1d5-0b4a11d36458"
      },
      "outputs": [
        {
          "output_type": "stream",
          "name": "stdout",
          "text": [
            "--Return--\n",
            "None\n",
            "> \u001b[0;32m/tmp/ipython-input-61195251.py\u001b[0m(8)\u001b[0;36m<cell line: 0>\u001b[0;34m()\u001b[0m\n",
            "\u001b[0;32m      6 \u001b[0;31m\u001b[0;34m\u001b[0m\u001b[0m\n",
            "\u001b[0m\u001b[0;32m      7 \u001b[0;31m\u001b[0;34m\u001b[0m\u001b[0m\n",
            "\u001b[0m\u001b[0;32m----> 8 \u001b[0;31m\u001b[0mpdb\u001b[0m\u001b[0;34m.\u001b[0m\u001b[0mset_trace\u001b[0m\u001b[0;34m(\u001b[0m\u001b[0;34m)\u001b[0m\u001b[0;34m\u001b[0m\u001b[0;34m\u001b[0m\u001b[0m\n",
            "\u001b[0m\u001b[0;32m      9 \u001b[0;31m\u001b[0mx\u001b[0m \u001b[0;34m=\u001b[0m \u001b[0;36m10\u001b[0m \u001b[0;31m#input(\"Enter first number : \")\u001b[0m\u001b[0;34m\u001b[0m\u001b[0;34m\u001b[0m\u001b[0m\n",
            "\u001b[0m\u001b[0;32m     10 \u001b[0;31m\u001b[0my\u001b[0m \u001b[0;34m=\u001b[0m \u001b[0;36m13\u001b[0m \u001b[0;31m#input(\"Enter first number : \")\u001b[0m\u001b[0;34m\u001b[0m\u001b[0;34m\u001b[0m\u001b[0m\n",
            "\u001b[0m\n",
            "--KeyboardInterrupt--\n",
            "\n",
            "KeyboardInterrupt: Interrupted by user\n",
            "23\n"
          ]
        }
      ],
      "source": [
        "import pdb\n",
        "\n",
        "def addition(a, b):\n",
        "  answer = a + b\n",
        "  return answer\n",
        "\n",
        "\n",
        "pdb.set_trace()\n",
        "x = 10 #input(\"Enter first number : \")\n",
        "y = 13 #input(\"Enter first number : \")\n",
        "sum = addition(x, y)\n",
        "print(sum)"
      ]
    },
    {
      "cell_type": "code",
      "source": [
        "import re\n",
        "\n",
        "text = input('Enter the text: ')\n",
        "pattern = r'\\b[A-Za-z0-9._%+-]+@[A-Za-z0-9.-]+\\.[A-Z|a-z]{2,}\\b'\n",
        "\n",
        "match = re.search(pattern, text)\n",
        "if match:\n",
        "    print(f\"Email found: {match.group()}\")"
      ],
      "metadata": {
        "colab": {
          "base_uri": "https://localhost:8080/",
          "height": 370
        },
        "id": "X65yBO3TUGV9",
        "outputId": "a7b29a6b-d33a-4989-a9a7-48f30e3a39e8"
      },
      "execution_count": null,
      "outputs": [
        {
          "output_type": "error",
          "ename": "KeyboardInterrupt",
          "evalue": "Interrupted by user",
          "traceback": [
            "\u001b[0;31m---------------------------------------------------------------------------\u001b[0m",
            "\u001b[0;31mKeyboardInterrupt\u001b[0m                         Traceback (most recent call last)",
            "\u001b[0;32m/tmp/ipython-input-966253162.py\u001b[0m in \u001b[0;36m<cell line: 0>\u001b[0;34m()\u001b[0m\n\u001b[1;32m      1\u001b[0m \u001b[0;32mimport\u001b[0m \u001b[0mre\u001b[0m\u001b[0;34m\u001b[0m\u001b[0;34m\u001b[0m\u001b[0m\n\u001b[1;32m      2\u001b[0m \u001b[0;34m\u001b[0m\u001b[0m\n\u001b[0;32m----> 3\u001b[0;31m \u001b[0mtext\u001b[0m \u001b[0;34m=\u001b[0m \u001b[0minput\u001b[0m\u001b[0;34m(\u001b[0m\u001b[0;34m'Enter the text: '\u001b[0m\u001b[0;34m)\u001b[0m\u001b[0;34m\u001b[0m\u001b[0;34m\u001b[0m\u001b[0m\n\u001b[0m\u001b[1;32m      4\u001b[0m \u001b[0mpattern\u001b[0m \u001b[0;34m=\u001b[0m \u001b[0;34mr'\\b[A-Za-z0-9._%+-]+@[A-Za-z0-9.-]+\\.[A-Z|a-z]{2,}\\b'\u001b[0m\u001b[0;34m\u001b[0m\u001b[0;34m\u001b[0m\u001b[0m\n\u001b[1;32m      5\u001b[0m \u001b[0;34m\u001b[0m\u001b[0m\n",
            "\u001b[0;32m/usr/local/lib/python3.12/dist-packages/ipykernel/kernelbase.py\u001b[0m in \u001b[0;36mraw_input\u001b[0;34m(self, prompt)\u001b[0m\n\u001b[1;32m   1175\u001b[0m                 \u001b[0;34m\"raw_input was called, but this frontend does not support input requests.\"\u001b[0m\u001b[0;34m\u001b[0m\u001b[0;34m\u001b[0m\u001b[0m\n\u001b[1;32m   1176\u001b[0m             )\n\u001b[0;32m-> 1177\u001b[0;31m         return self._input_request(\n\u001b[0m\u001b[1;32m   1178\u001b[0m             \u001b[0mstr\u001b[0m\u001b[0;34m(\u001b[0m\u001b[0mprompt\u001b[0m\u001b[0;34m)\u001b[0m\u001b[0;34m,\u001b[0m\u001b[0;34m\u001b[0m\u001b[0;34m\u001b[0m\u001b[0m\n\u001b[1;32m   1179\u001b[0m             \u001b[0mself\u001b[0m\u001b[0;34m.\u001b[0m\u001b[0m_parent_ident\u001b[0m\u001b[0;34m[\u001b[0m\u001b[0;34m\"shell\"\u001b[0m\u001b[0;34m]\u001b[0m\u001b[0;34m,\u001b[0m\u001b[0;34m\u001b[0m\u001b[0;34m\u001b[0m\u001b[0m\n",
            "\u001b[0;32m/usr/local/lib/python3.12/dist-packages/ipykernel/kernelbase.py\u001b[0m in \u001b[0;36m_input_request\u001b[0;34m(self, prompt, ident, parent, password)\u001b[0m\n\u001b[1;32m   1217\u001b[0m             \u001b[0;32mexcept\u001b[0m \u001b[0mKeyboardInterrupt\u001b[0m\u001b[0;34m:\u001b[0m\u001b[0;34m\u001b[0m\u001b[0;34m\u001b[0m\u001b[0m\n\u001b[1;32m   1218\u001b[0m                 \u001b[0;31m# re-raise KeyboardInterrupt, to truncate traceback\u001b[0m\u001b[0;34m\u001b[0m\u001b[0;34m\u001b[0m\u001b[0m\n\u001b[0;32m-> 1219\u001b[0;31m                 \u001b[0;32mraise\u001b[0m \u001b[0mKeyboardInterrupt\u001b[0m\u001b[0;34m(\u001b[0m\u001b[0;34m\"Interrupted by user\"\u001b[0m\u001b[0;34m)\u001b[0m \u001b[0;32mfrom\u001b[0m \u001b[0;32mNone\u001b[0m\u001b[0;34m\u001b[0m\u001b[0;34m\u001b[0m\u001b[0m\n\u001b[0m\u001b[1;32m   1220\u001b[0m             \u001b[0;32mexcept\u001b[0m \u001b[0mException\u001b[0m\u001b[0;34m:\u001b[0m\u001b[0;34m\u001b[0m\u001b[0;34m\u001b[0m\u001b[0m\n\u001b[1;32m   1221\u001b[0m                 \u001b[0mself\u001b[0m\u001b[0;34m.\u001b[0m\u001b[0mlog\u001b[0m\u001b[0;34m.\u001b[0m\u001b[0mwarning\u001b[0m\u001b[0;34m(\u001b[0m\u001b[0;34m\"Invalid Message:\"\u001b[0m\u001b[0;34m,\u001b[0m \u001b[0mexc_info\u001b[0m\u001b[0;34m=\u001b[0m\u001b[0;32mTrue\u001b[0m\u001b[0;34m)\u001b[0m\u001b[0;34m\u001b[0m\u001b[0;34m\u001b[0m\u001b[0m\n",
            "\u001b[0;31mKeyboardInterrupt\u001b[0m: Interrupted by user"
          ]
        }
      ]
    },
    {
      "cell_type": "code",
      "source": [
        "import re\n",
        "re.findall(r'\\d',\"abc123\")"
      ],
      "metadata": {
        "colab": {
          "base_uri": "https://localhost:8080/"
        },
        "id": "hROIwiLaULOp",
        "outputId": "a485c9ab-b07d-435f-ad19-aa1eea650917"
      },
      "execution_count": null,
      "outputs": [
        {
          "output_type": "execute_result",
          "data": {
            "text/plain": [
              "['1', '2', '3']"
            ]
          },
          "metadata": {},
          "execution_count": 25
        }
      ]
    },
    {
      "cell_type": "code",
      "source": [
        "re.findall(r'\\w',\"hello_world\")"
      ],
      "metadata": {
        "colab": {
          "base_uri": "https://localhost:8080/"
        },
        "id": "KENbXLoUWkH6",
        "outputId": "c04db428-7bae-4631-919b-44663de5079f"
      },
      "execution_count": null,
      "outputs": [
        {
          "output_type": "execute_result",
          "data": {
            "text/plain": [
              "['h', 'e', 'l', 'l', 'o', '_', 'w', 'o', 'r', 'l', 'd']"
            ]
          },
          "metadata": {},
          "execution_count": 26
        }
      ]
    },
    {
      "cell_type": "code",
      "source": [
        "re.findall(r'\\s',\" helloworld \")"
      ],
      "metadata": {
        "colab": {
          "base_uri": "https://localhost:8080/"
        },
        "id": "3kbk7SFmWwVe",
        "outputId": "3a01fecf-1d20-40b2-d00a-e856fb0f645e"
      },
      "execution_count": null,
      "outputs": [
        {
          "output_type": "execute_result",
          "data": {
            "text/plain": [
              "[' ', ' ']"
            ]
          },
          "metadata": {},
          "execution_count": 27
        }
      ]
    },
    {
      "cell_type": "code",
      "source": [
        "text = \"John Doe, Jane Smith\"\n",
        "pattern = r'(\\w+)' r'(\\w+)'\n"
      ],
      "metadata": {
        "id": "FApj44sTW6s8"
      },
      "execution_count": null,
      "outputs": []
    },
    {
      "cell_type": "code",
      "source": [
        "import re\n",
        "def is_valid_email(email):\n",
        "  pattern = r'^[a-zA-Z0-9._%+-]+@[a-zA-Z0-9.-]+\\.[a-zA-Z]{2,}$'\n",
        "  return bool(re.fullmatch(pattern, email))\n",
        "\n",
        "email = \"paratesai316@gmail.com\" #input('Enter valid email')\n",
        "if is_valid_email(email):\n",
        "  print(\"Valid email address\")\n",
        "else:\n",
        "  print(\"Invalid email address\")"
      ],
      "metadata": {
        "colab": {
          "base_uri": "https://localhost:8080/"
        },
        "id": "6kJt0p8-YKmY",
        "outputId": "3f1ecfd3-690c-4494-9724-91ba4f5d423b"
      },
      "execution_count": null,
      "outputs": [
        {
          "output_type": "stream",
          "name": "stdout",
          "text": [
            "Valid email address\n"
          ]
        }
      ]
    },
    {
      "cell_type": "code",
      "source": [
        "def is_valid_phone_number(phone_number_str):\n",
        "  pattern = r\"^\\d{3}[-.]\\d{3}[-.]\\d{4}$\"\n",
        "  if re.fullmatch(pattern, phone_number_str):\n",
        "    return True\n",
        "  else:\n",
        "    return False\n",
        "\n",
        "phone_number = input(\"Enter a phone number: \")\n",
        "if is_valid_phone_number(phone_number):\n",
        "  print(\"Valid phone number\")\n",
        "else:\n",
        "  print(\"Invalid phone number\")"
      ],
      "metadata": {
        "colab": {
          "base_uri": "https://localhost:8080/",
          "height": 370
        },
        "id": "iJd27pUiZKH4",
        "outputId": "4b84baa4-4905-4f9b-e43e-61de09c1dce3"
      },
      "execution_count": null,
      "outputs": [
        {
          "output_type": "error",
          "ename": "KeyboardInterrupt",
          "evalue": "Interrupted by user",
          "traceback": [
            "\u001b[0;31m---------------------------------------------------------------------------\u001b[0m",
            "\u001b[0;31mKeyboardInterrupt\u001b[0m                         Traceback (most recent call last)",
            "\u001b[0;32m/tmp/ipython-input-3736860630.py\u001b[0m in \u001b[0;36m<cell line: 0>\u001b[0;34m()\u001b[0m\n\u001b[1;32m      6\u001b[0m     \u001b[0;32mreturn\u001b[0m \u001b[0;32mFalse\u001b[0m\u001b[0;34m\u001b[0m\u001b[0;34m\u001b[0m\u001b[0m\n\u001b[1;32m      7\u001b[0m \u001b[0;34m\u001b[0m\u001b[0m\n\u001b[0;32m----> 8\u001b[0;31m \u001b[0mphone_number\u001b[0m \u001b[0;34m=\u001b[0m \u001b[0minput\u001b[0m\u001b[0;34m(\u001b[0m\u001b[0;34m\"Enter a phone number: \"\u001b[0m\u001b[0;34m)\u001b[0m\u001b[0;34m\u001b[0m\u001b[0;34m\u001b[0m\u001b[0m\n\u001b[0m\u001b[1;32m      9\u001b[0m \u001b[0;32mif\u001b[0m \u001b[0mis_valid_phone_number\u001b[0m\u001b[0;34m(\u001b[0m\u001b[0mphone_number\u001b[0m\u001b[0;34m)\u001b[0m\u001b[0;34m:\u001b[0m\u001b[0;34m\u001b[0m\u001b[0;34m\u001b[0m\u001b[0m\n\u001b[1;32m     10\u001b[0m   \u001b[0mprint\u001b[0m\u001b[0;34m(\u001b[0m\u001b[0;34m\"Valid phone number\"\u001b[0m\u001b[0;34m)\u001b[0m\u001b[0;34m\u001b[0m\u001b[0;34m\u001b[0m\u001b[0m\n",
            "\u001b[0;32m/usr/local/lib/python3.12/dist-packages/ipykernel/kernelbase.py\u001b[0m in \u001b[0;36mraw_input\u001b[0;34m(self, prompt)\u001b[0m\n\u001b[1;32m   1175\u001b[0m                 \u001b[0;34m\"raw_input was called, but this frontend does not support input requests.\"\u001b[0m\u001b[0;34m\u001b[0m\u001b[0;34m\u001b[0m\u001b[0m\n\u001b[1;32m   1176\u001b[0m             )\n\u001b[0;32m-> 1177\u001b[0;31m         return self._input_request(\n\u001b[0m\u001b[1;32m   1178\u001b[0m             \u001b[0mstr\u001b[0m\u001b[0;34m(\u001b[0m\u001b[0mprompt\u001b[0m\u001b[0;34m)\u001b[0m\u001b[0;34m,\u001b[0m\u001b[0;34m\u001b[0m\u001b[0;34m\u001b[0m\u001b[0m\n\u001b[1;32m   1179\u001b[0m             \u001b[0mself\u001b[0m\u001b[0;34m.\u001b[0m\u001b[0m_parent_ident\u001b[0m\u001b[0;34m[\u001b[0m\u001b[0;34m\"shell\"\u001b[0m\u001b[0;34m]\u001b[0m\u001b[0;34m,\u001b[0m\u001b[0;34m\u001b[0m\u001b[0;34m\u001b[0m\u001b[0m\n",
            "\u001b[0;32m/usr/local/lib/python3.12/dist-packages/ipykernel/kernelbase.py\u001b[0m in \u001b[0;36m_input_request\u001b[0;34m(self, prompt, ident, parent, password)\u001b[0m\n\u001b[1;32m   1217\u001b[0m             \u001b[0;32mexcept\u001b[0m \u001b[0mKeyboardInterrupt\u001b[0m\u001b[0;34m:\u001b[0m\u001b[0;34m\u001b[0m\u001b[0;34m\u001b[0m\u001b[0m\n\u001b[1;32m   1218\u001b[0m                 \u001b[0;31m# re-raise KeyboardInterrupt, to truncate traceback\u001b[0m\u001b[0;34m\u001b[0m\u001b[0;34m\u001b[0m\u001b[0m\n\u001b[0;32m-> 1219\u001b[0;31m                 \u001b[0;32mraise\u001b[0m \u001b[0mKeyboardInterrupt\u001b[0m\u001b[0;34m(\u001b[0m\u001b[0;34m\"Interrupted by user\"\u001b[0m\u001b[0;34m)\u001b[0m \u001b[0;32mfrom\u001b[0m \u001b[0;32mNone\u001b[0m\u001b[0;34m\u001b[0m\u001b[0;34m\u001b[0m\u001b[0m\n\u001b[0m\u001b[1;32m   1220\u001b[0m             \u001b[0;32mexcept\u001b[0m \u001b[0mException\u001b[0m\u001b[0;34m:\u001b[0m\u001b[0;34m\u001b[0m\u001b[0;34m\u001b[0m\u001b[0m\n\u001b[1;32m   1221\u001b[0m                 \u001b[0mself\u001b[0m\u001b[0;34m.\u001b[0m\u001b[0mlog\u001b[0m\u001b[0;34m.\u001b[0m\u001b[0mwarning\u001b[0m\u001b[0;34m(\u001b[0m\u001b[0;34m\"Invalid Message:\"\u001b[0m\u001b[0;34m,\u001b[0m \u001b[0mexc_info\u001b[0m\u001b[0;34m=\u001b[0m\u001b[0;32mTrue\u001b[0m\u001b[0;34m)\u001b[0m\u001b[0;34m\u001b[0m\u001b[0;34m\u001b[0m\u001b[0m\n",
            "\u001b[0;31mKeyboardInterrupt\u001b[0m: Interrupted by user"
          ]
        }
      ]
    },
    {
      "cell_type": "code",
      "source": [
        "text = \"Visit https//www.example.com or http://test.org\"\n",
        "pattern = r'https://(?:)[-\\w](?:%)[\\da-fA-F](2)+'\n",
        "re.findall(pattern, text)"
      ],
      "metadata": {
        "colab": {
          "base_uri": "https://localhost:8080/"
        },
        "id": "9Uls7oJnZf7q",
        "outputId": "03ce37c5-fff9-4320-d001-3f640a2fb37d"
      },
      "execution_count": null,
      "outputs": [
        {
          "output_type": "execute_result",
          "data": {
            "text/plain": [
              "[]"
            ]
          },
          "metadata": {},
          "execution_count": 33
        }
      ]
    },
    {
      "cell_type": "code",
      "source": [
        "def is_strong_password(password):\n",
        "  pattern = r'^(?=.*[a-z])(?=.*[A-Z])(?=.*\\d)(?=.*[@$!%*?&])[A-Za-z\\d@$!%*?&]{8,}$'\n",
        "  return bool(re.fullmatch(pattern, password))\n",
        "\n",
        "password = \"helloWorld@4\"\n",
        "if is_strong_password(password):\n",
        "  print(\"Strong password\")\n",
        "else:\n",
        "  print(\"Weak password\")"
      ],
      "metadata": {
        "colab": {
          "base_uri": "https://localhost:8080/"
        },
        "id": "Q76hBDt5a1ll",
        "outputId": "bd617f4f-f004-4706-9555-f7fea9a3e992"
      },
      "execution_count": null,
      "outputs": [
        {
          "output_type": "stream",
          "name": "stdout",
          "text": [
            "Strong password\n"
          ]
        }
      ]
    },
    {
      "cell_type": "code",
      "source": [
        "def is_pos_or_neg(num):\n",
        "  positive_pattern = r'^\\+?\\d+$'\n",
        "  negative_pattern = r'^-\\d+$'\n",
        "  if re.match(positive_pattern, str(num)):\n",
        "    return \"Positive\"\n",
        "  elif re.match(negative_pattern, str(num)):\n",
        "    return \"Negative\"\n",
        "  else:\n",
        "    return \"Zero\"\n",
        "\n",
        "num = 0\n",
        "result = is_pos_or_neg(num)\n",
        "print(result)"
      ],
      "metadata": {
        "colab": {
          "base_uri": "https://localhost:8080/"
        },
        "id": "0OuaAlWQb3_c",
        "outputId": "a0e1a748-5f8f-4159-e558-4fd15e7859e1"
      },
      "execution_count": null,
      "outputs": [
        {
          "output_type": "stream",
          "name": "stdout",
          "text": [
            "Positive\n"
          ]
        }
      ]
    },
    {
      "cell_type": "code",
      "source": [
        "text = \"apple $, banana $20, cherry $30\"\n",
        "prices = re.findall(r'\\$\\d+', text)\n",
        "print(prices)\n",
        "\n",
        "items = re.findall(r'\\w+(?=\\s*\\$\\d+)',text) #r'\\w+(?=\\s*\\$)'\n",
        "print(items)"
      ],
      "metadata": {
        "colab": {
          "base_uri": "https://localhost:8080/"
        },
        "id": "CZgQVRjTdwa-",
        "outputId": "67e735c8-dd25-4821-eff0-67e3b395ad2a"
      },
      "execution_count": null,
      "outputs": [
        {
          "output_type": "stream",
          "name": "stdout",
          "text": [
            "['$20', '$30']\n",
            "['banana', 'cherry']\n"
          ]
        }
      ]
    },
    {
      "cell_type": "code",
      "source": [
        "text = \"The rain in Spain. The hill in France. The lake in Germany. The river in Italy\"\n",
        "sentence = re.split(r'\\.',text)\n",
        "for s in sentence:\n",
        "  s = s.strip()\n",
        "  words = re.split(r' ',s)\n",
        "  print(words)"
      ],
      "metadata": {
        "colab": {
          "base_uri": "https://localhost:8080/"
        },
        "id": "1hM64nwoe-7T",
        "outputId": "346fa5b6-b138-4751-a9f4-4bd0ca321959"
      },
      "execution_count": null,
      "outputs": [
        {
          "output_type": "stream",
          "name": "stdout",
          "text": [
            "['The', 'rain', 'in', 'Spain']\n",
            "['The', 'hill', 'in', 'France']\n",
            "['The', 'lake', 'in', 'Germany']\n",
            "['The', 'river', 'in', 'Italy']\n"
          ]
        }
      ]
    },
    {
      "cell_type": "code",
      "source": [
        "class MyClass():\n",
        "  x=15\n",
        "p1 = MyClass()\n",
        "print(p1.x)"
      ],
      "metadata": {
        "colab": {
          "base_uri": "https://localhost:8080/"
        },
        "id": "n9-g6bQulvVW",
        "outputId": "394a45a3-83f1-45c9-8f9a-820befddcce9"
      },
      "execution_count": null,
      "outputs": [
        {
          "output_type": "stream",
          "name": "stdout",
          "text": [
            "15\n"
          ]
        }
      ]
    },
    {
      "cell_type": "code",
      "source": [
        "class Dog():\n",
        "  dogs_count = 0\n",
        "  def __init__(self,name,age):\n",
        "    self.name = name\n",
        "    self.age = age\n",
        "    print(\"Welcome to this world\",format(self.name))\n",
        "    Dog.dogs_count += 1\n",
        "  def __del__(self):\n",
        "    print(\"Goodbye\",format(self.name))\n",
        "    Dog.dogs_count -= 1\n",
        "\n",
        "a = Dog(\"Max\",1)\n",
        "print(\"Number of Dogs: \",format(Dog.dogs_count),\"\\n\")\n",
        "b = Dog(\"Charlie\",7)\n",
        "print(\"Number of Dogs: \",format(Dog.dogs_count),\"\\n\")\n",
        "del a\n",
        "print(\"Number of Dogs: \",format(Dog.dogs_count),\"\\n\")\n",
        "c = Dog(\"Spot\",4.5)\n",
        "print(\"Number of Dogs: \",format(Dog.dogs_count),\"\\n\")\n",
        "del b\n",
        "del c\n",
        "print(\"Number of Dogs: \",format(Dog.dogs_count),\"\\n\")"
      ],
      "metadata": {
        "colab": {
          "base_uri": "https://localhost:8080/"
        },
        "id": "qA-4ZH6vmvPl",
        "outputId": "4d449229-49b8-47c6-8ff3-0f040b1c3874"
      },
      "execution_count": null,
      "outputs": [
        {
          "output_type": "stream",
          "name": "stdout",
          "text": [
            "Welcome to this world Max\n",
            "Number of Dogs:  1 \n",
            "\n",
            "Welcome to this world Charlie\n",
            "Number of Dogs:  2 \n",
            "\n",
            "Goodbye Max\n",
            "Number of Dogs:  1 \n",
            "\n",
            "Welcome to this world Spot\n",
            "Number of Dogs:  2 \n",
            "\n",
            "Goodbye Charlie\n",
            "Goodbye Spot\n",
            "Number of Dos:  0 \n",
            "\n"
          ]
        }
      ]
    },
    {
      "cell_type": "code",
      "source": [
        "import json\n",
        "employee = '{\"id\":\"09\",\"name\":\"Nitin\",\"department\":\"Finance\"}'\n",
        "employee_dict = json.loads(employee)\n",
        "print(employee_dict)\n",
        "print(employee_dict['department'])"
      ],
      "metadata": {
        "colab": {
          "base_uri": "https://localhost:8080/"
        },
        "id": "0f5oQkhgsYK8",
        "outputId": "8b320fe6-ee44-4e88-8d06-bfd694b1c1d3"
      },
      "execution_count": null,
      "outputs": [
        {
          "output_type": "stream",
          "name": "stdout",
          "text": [
            "{'id': '09', 'name': 'Nitin', 'department': 'Finance'}\n",
            "Finance\n"
          ]
        }
      ]
    },
    {
      "cell_type": "code",
      "source": [
        "data_pizzaorder = \"\"\"\n",
        "{\n",
        "  \"size\":\"Medium\",\n",
        "  \"price\":\"69.67\",\n",
        "  \"toppings\":[\"Mushrooms\",\"Extra Cheese\",\"Pepperoni\",\"Basil\"],\n",
        "  \"client\":{\n",
        "    \"name\":\"Jane Doe\",\n",
        "    \"phone\":\"999-345-6789\",\n",
        "    \"email\":\"janedoe@example.com\"\n",
        "  }\n",
        "} \"\"\"\n",
        "data_pizzaorder_dict = json.loads(data_pizzaorder)\n",
        "#print(data_pizzaorder_dict)\n",
        "print(data_pizzaorder_dict['client']['name'])"
      ],
      "metadata": {
        "colab": {
          "base_uri": "https://localhost:8080/"
        },
        "id": "lRaWcy_rt4b5",
        "outputId": "2829cafd-95b0-4c2c-aabd-a2db21bc92b7"
      },
      "execution_count": null,
      "outputs": [
        {
          "output_type": "stream",
          "name": "stdout",
          "text": [
            "Jane Doe\n"
          ]
        }
      ]
    },
    {
      "cell_type": "code",
      "source": [
        "class Dog:\n",
        "  def __init__(self, breed, colour):\n",
        "    self.breed = breed\n",
        "    self.age = age\n",
        "\n",
        "  dogs_count = 0\n",
        "\n",
        "  def __init__(self,name,age):\n",
        "    self.name = name\n",
        "    self.age = age\n",
        "    Dog.dogs_count += 1\n",
        "\n",
        "  def show(self):\n",
        "    print(f\"Name: {self.name}, Age: {self.age}\")\n",
        "\n",
        "dog1 = Dog(\"Tommy\",3)\n",
        "dog2 = Dog(\"Bruno\",5)\n",
        "\n",
        "dog1.show\n",
        "dog2.show\n",
        "\n",
        "#print(\"Total dogs: \", Dog.dogs_count)"
      ],
      "metadata": {
        "colab": {
          "base_uri": "https://localhost:8080/",
          "height": 103
        },
        "id": "48jIR4pTPZ-q",
        "outputId": "88263fa3-c829-4c63-9945-fb2ca14cce4b"
      },
      "execution_count": null,
      "outputs": [
        {
          "output_type": "execute_result",
          "data": {
            "text/plain": [
              "<bound method Dog.show of <__main__.Dog object at 0x7e111a1ab500>>"
            ],
            "text/html": [
              "<div style=\"max-width:800px; border: 1px solid var(--colab-border-color);\"><style>\n",
              "      pre.function-repr-contents {\n",
              "        overflow-x: auto;\n",
              "        padding: 8px 12px;\n",
              "        max-height: 500px;\n",
              "      }\n",
              "\n",
              "      pre.function-repr-contents.function-repr-contents-collapsed {\n",
              "        cursor: pointer;\n",
              "        max-height: 100px;\n",
              "      }\n",
              "    </style>\n",
              "    <pre style=\"white-space: initial; background:\n",
              "         var(--colab-secondary-surface-color); padding: 8px 12px;\n",
              "         border-bottom: 1px solid var(--colab-border-color);\"><b>Dog.show</b><br/>def show()</pre><pre class=\"function-repr-contents function-repr-contents-collapsed\" style=\"\"><a class=\"filepath\" style=\"display:none\" href=\"#\">/tmp/ipython-input-98399183.py</a>&lt;no docstring&gt;</pre></div>"
            ]
          },
          "metadata": {},
          "execution_count": 9
        }
      ]
    },
    {
      "cell_type": "code",
      "source": [
        "import json\n",
        "data_JSON = \"\"\"\n",
        "{\n",
        "  \"Size\" : \"Medium\",\n",
        "  \"Price\" : \"15.67\",\n",
        "  \"Toppings\" : [\"Mushrooms\",\"Extra Cheese\",\"Pepperoni\",\"Basil\"],\n",
        "  \"Client\" : {\n",
        "    \"Name\" : \"Jane Doe\",\n",
        "    \"Phone\" : \"123-456-7890\",\n",
        "    \"Email\" : \"janedoe@example.com\"\n",
        "  }\n",
        "}\n",
        "\"\"\"\n",
        "data_dict = json.loads(data_JSON)\n",
        "print(data_dict)\n",
        "print(\"\\nPrice\", data_dict['Price'])\n",
        "print(\"\\nToppings\", data_dict['Toppings'])\n",
        "print(\"\\nClient Name\", data_dict['Client']['Name'])"
      ],
      "metadata": {
        "colab": {
          "base_uri": "https://localhost:8080/"
        },
        "id": "DKORShJkWXZd",
        "outputId": "327ae55d-4531-4f73-9e93-4928fafcbad6"
      },
      "execution_count": null,
      "outputs": [
        {
          "output_type": "stream",
          "name": "stdout",
          "text": [
            "{'Size': 'Medium', 'Price': '15.67', 'Toppings': ['Mushrooms', 'Extra Cheese', 'Pepperoni', 'Basil'], 'Client': {'Name': 'Jane Doe', 'Phone': '123-456-7890', 'Email': 'janedoe@example.com'}}\n",
            "\n",
            "Price 15.67\n",
            "\n",
            "Toppings ['Mushrooms', 'Extra Cheese', 'Pepperoni', 'Basil']\n",
            "\n",
            "Client Name Jane Doe\n"
          ]
        }
      ]
    },
    {
      "cell_type": "code",
      "source": [
        "import json\n",
        "sample_data = {\n",
        "    \"name\" : \"Alice\",\n",
        "    \"age\" : 30,\n",
        "    \"is_student\" : False,\n",
        "    \"hobbies\" : {\"reading\" , \"hiking\" , \"coding\"},\n",
        "    \"address\" : {\n",
        "        \"street\" : \"123 Main St\",\n",
        "        \"city\" : \"New York\",\n",
        "    }\n",
        "}\n",
        "\n",
        "file_path = '/content/sample_data.json'\n",
        "with open(file_path, 'w') as file:\n",
        "  json.dump(sample_data, file, indent=4)\n",
        "\n",
        "print(\"Sample JSON file created successfully \\n\")"
      ],
      "metadata": {
        "id": "qUWL53UBZMcN"
      },
      "execution_count": null,
      "outputs": []
    }
  ],
  "metadata": {
    "colab": {
      "provenance": [],
      "authorship_tag": "ABX9TyOyzWLSruWIMtD3k199ysZt",
      "include_colab_link": true
    },
    "kernelspec": {
      "display_name": "Python 3",
      "name": "python3"
    },
    "language_info": {
      "name": "python"
    }
  },
  "nbformat": 4,
  "nbformat_minor": 0
}