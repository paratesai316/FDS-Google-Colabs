{
  "nbformat": 4,
  "nbformat_minor": 0,
  "metadata": {
    "colab": {
      "provenance": [],
      "authorship_tag": "ABX9TyOYdWbUoMB+4HfTqZDkFdKj",
      "include_colab_link": true
    },
    "kernelspec": {
      "name": "python3",
      "display_name": "Python 3"
    },
    "language_info": {
      "name": "python"
    }
  },
  "cells": [
    {
      "cell_type": "markdown",
      "metadata": {
        "id": "view-in-github",
        "colab_type": "text"
      },
      "source": [
        "<a href=\"https://colab.research.google.com/github/paratesai316/FDS-Goole-Colabs/blob/main/RA2411056010288_unit1.ipynb\" target=\"_parent\"><img src=\"https://colab.research.google.com/assets/colab-badge.svg\" alt=\"Open In Colab\"/></a>"
      ]
    },
    {
      "cell_type": "markdown",
      "source": [
        "```\n",
        "Sai Parate\n",
        "RA2411056010288\n",
        "```\n",
        "\n"
      ],
      "metadata": {
        "id": "GQX_DuG0LHqA"
      }
    },
    {
      "cell_type": "code",
      "source": [
        "import numpy as np\n",
        "\n",
        "array1 = np.arange(0,24,6).reshape(2,2)\n",
        "print(array1)\n",
        "copy1 = np.empty_like(array1)\n",
        "print(copy1)\n",
        "copy2 = array1\n",
        "print(copy2)\n",
        "copy3 = np.copy(array1)\n",
        "print(copy2)"
      ],
      "metadata": {
        "colab": {
          "base_uri": "https://localhost:8080/"
        },
        "id": "PqsChbK3YOzJ",
        "outputId": "b1d02810-3eb7-423e-adaa-3fe801cb69d0"
      },
      "execution_count": null,
      "outputs": [
        {
          "output_type": "stream",
          "name": "stdout",
          "text": [
            "[[ 0  6]\n",
            " [12 18]]\n",
            "[[         1025821751                   0]\n",
            " [                427 2268721830212730880]]\n",
            "[[ 0  6]\n",
            " [12 18]]\n",
            "[[ 0  6]\n",
            " [12 18]]\n"
          ]
        }
      ]
    },
    {
      "cell_type": "code",
      "source": [
        "import numpy as np\n",
        "\n",
        "array = np.arange(0,6)\n",
        "print(array)\n",
        "copy = np.copy(array)\n",
        "copy[3] = 6\n",
        "print(copy)"
      ],
      "metadata": {
        "colab": {
          "base_uri": "https://localhost:8080/"
        },
        "id": "0iMSv7fG7MGh",
        "outputId": "cd1bb064-994b-4de7-a464-833257a35601"
      },
      "execution_count": null,
      "outputs": [
        {
          "output_type": "stream",
          "name": "stdout",
          "text": [
            "[0 1 2 3 4 5]\n",
            "[0 1 2 6 4 5]\n"
          ]
        }
      ]
    },
    {
      "cell_type": "code",
      "source": [
        "import numpy as np\n",
        "\n",
        "array = np.arange(0,18,1).reshape(2,3,3)\n",
        "print(array,\"\\n\\n\")\n",
        "for x in array:\n",
        "  for y in x:\n",
        "    for z in y:\n",
        "      print(f\"{z}\\t\",end=\"\")\n",
        "    print(\"\\n\\t\")\n",
        "  print(\"\\n\\t\")"
      ],
      "metadata": {
        "colab": {
          "base_uri": "https://localhost:8080/"
        },
        "id": "pGId6sc47a1v",
        "outputId": "6141bce2-ce2b-46fb-9a9b-cbd1d7264359"
      },
      "execution_count": null,
      "outputs": [
        {
          "output_type": "stream",
          "name": "stdout",
          "text": [
            "[[[ 0  1  2]\n",
            "  [ 3  4  5]\n",
            "  [ 6  7  8]]\n",
            "\n",
            " [[ 9 10 11]\n",
            "  [12 13 14]\n",
            "  [15 16 17]]] \n",
            "\n",
            "\n",
            "0\t1\t2\t\n",
            "\t\n",
            "3\t4\t5\t\n",
            "\t\n",
            "6\t7\t8\t\n",
            "\t\n",
            "\n",
            "\t\n",
            "9\t10\t11\t\n",
            "\t\n",
            "12\t13\t14\t\n",
            "\t\n",
            "15\t16\t17\t\n",
            "\t\n",
            "\n",
            "\t\n"
          ]
        }
      ]
    },
    {
      "cell_type": "code",
      "source": [
        "import numpy as np\n",
        "\n",
        "array1 = np.array([[10,20],[30,40],[50,60]])\n",
        "\n",
        "print(array1,\"\\n\")\n",
        "print(\"1. \",type(array1),\"\\n\")\n",
        "print(\"2. \",array1.shape,\"\\n\")\n",
        "print(\"3. \",array1.ndim,\"\\n\")\n",
        "print(\"4. \",array1.size,\"\\n\")\n",
        "print(\"5. \",array1.dtype,\"\\n\")\n",
        "print(\"6. \\n\",np.ndarray(shape=(3,3),dtype=float),\"\\n\")\n",
        "\n",
        "array2 = np.ones((3,3))\n",
        "print(\"7. \\n\",(array2),\"\\n\")\n",
        "\n",
        "array3 = np.zeros((3,3))\n",
        "print(\"8. \\n\",(array3),\"\\n\")\n",
        "\n",
        "array4 = np.full((3,3),4,dtype=complex)\n",
        "print(\"9. \\n\",(array4),\"\\n\")\n",
        "#array1[[2],[1]] = 20\n",
        "print(\"10. \\n\",array1[2][1],\"\\n\")\n",
        "\n",
        "array5 = [[1,2],[3,4],[5,6]]\n",
        "print(\"11. \\n\",array1+array5,\"\\n\")\n",
        "print(\"12. \\n\",array1-array5,\"\\n\")\n",
        "print(\"13. \\n\",array1*array5,\"\\n\")\n",
        "print(\"14. \\n\",array1/array5,\"\\n\")\n",
        "\n",
        "print(\"15. \\n\",array1.itemsize)"
      ],
      "metadata": {
        "colab": {
          "base_uri": "https://localhost:8080/"
        },
        "id": "ebbsalh-QwOZ",
        "outputId": "022d2d4d-772f-4943-eda8-5da4febf04d7"
      },
      "execution_count": null,
      "outputs": [
        {
          "output_type": "stream",
          "name": "stdout",
          "text": [
            "[[10 20]\n",
            " [30 40]\n",
            " [50 60]] \n",
            "\n",
            "1.  <class 'numpy.ndarray'> \n",
            "\n",
            "2.  (3, 2) \n",
            "\n",
            "3.  2 \n",
            "\n",
            "4.  6 \n",
            "\n",
            "5.  int64 \n",
            "\n",
            "6. \n",
            " [[0. 0. 0.]\n",
            " [0. 0. 0.]\n",
            " [0. 0. 0.]] \n",
            "\n",
            "7. \n",
            " [[1. 1. 1.]\n",
            " [1. 1. 1.]\n",
            " [1. 1. 1.]] \n",
            "\n",
            "8. \n",
            " [[0. 0. 0.]\n",
            " [0. 0. 0.]\n",
            " [0. 0. 0.]] \n",
            "\n",
            "9. \n",
            " [[4.+0.j 4.+0.j 4.+0.j]\n",
            " [4.+0.j 4.+0.j 4.+0.j]\n",
            " [4.+0.j 4.+0.j 4.+0.j]] \n",
            "\n",
            "10. \n",
            " 60 \n",
            "\n",
            "11. \n",
            " [[11 22]\n",
            " [33 44]\n",
            " [55 66]] \n",
            "\n",
            "12. \n",
            " [[ 9 18]\n",
            " [27 36]\n",
            " [45 54]] \n",
            "\n",
            "13. \n",
            " [[ 10  40]\n",
            " [ 90 160]\n",
            " [250 360]] \n",
            "\n",
            "14. \n",
            " [[10. 10.]\n",
            " [10. 10.]\n",
            " [10. 10.]] \n",
            "\n",
            "15. \n",
            " 8\n"
          ]
        }
      ]
    },
    {
      "cell_type": "code",
      "source": [
        "import numpy as np\n",
        "array1 = [[2,-1,0,15,5],[1,1,1,1,0]]\n",
        "array2 = [[10,20,5,7,8],[10,2,-1,4,5]]\n",
        "print(\"1. \\n\", array1,\"\\n\")\n",
        "print(\"2. \\n\", array2,\"\\n\")\n",
        "\n",
        "print(\"3. \\n\", np.concatenate((array1,array2)),\"\\n\")\n",
        "print(\"4. \\n\", np.concatenate((array1,array2),axis=0),\"\\n\")\n",
        "print(\"5. \\n\", np.concatenate((array1,array2),axis=1),\"\\n\")\n",
        "\n",
        "print(\"6. \\n\", np.stack((array1,array2),axis=0),\"\\n\")\n",
        "print(\"7. \\n\", np.stack((array1,array2),axis=1),\"\\n\")\n",
        "\n",
        "print(\"8. \\n\", np.hstack((array1,array2)))\n",
        "print(\"9. \\n\", np.vstack((array1,array2)))\n",
        "\n"
      ],
      "metadata": {
        "colab": {
          "base_uri": "https://localhost:8080/"
        },
        "id": "FOk8Gt7Sb2Jj",
        "outputId": "678d5767-a1f2-4151-db4e-2b3c084bccb0"
      },
      "execution_count": null,
      "outputs": [
        {
          "output_type": "stream",
          "name": "stdout",
          "text": [
            "1. \n",
            " [[2, -1, 0, 15, 5], [1, 1, 1, 1, 0]] \n",
            "\n",
            "2. \n",
            " [[10, 20, 5, 7, 8], [10, 2, -1, 4, 5]] \n",
            "\n",
            "3. \n",
            " [[ 2 -1  0 15  5]\n",
            " [ 1  1  1  1  0]\n",
            " [10 20  5  7  8]\n",
            " [10  2 -1  4  5]] \n",
            "\n",
            "4. \n",
            " [[ 2 -1  0 15  5]\n",
            " [ 1  1  1  1  0]\n",
            " [10 20  5  7  8]\n",
            " [10  2 -1  4  5]] \n",
            "\n",
            "5. \n",
            " [[ 2 -1  0 15  5 10 20  5  7  8]\n",
            " [ 1  1  1  1  0 10  2 -1  4  5]] \n",
            "\n",
            "6. \n",
            " [[[ 2 -1  0 15  5]\n",
            "  [ 1  1  1  1  0]]\n",
            "\n",
            " [[10 20  5  7  8]\n",
            "  [10  2 -1  4  5]]] \n",
            "\n",
            "7. \n",
            " [[[ 2 -1  0 15  5]\n",
            "  [10 20  5  7  8]]\n",
            "\n",
            " [[ 1  1  1  1  0]\n",
            "  [10  2 -1  4  5]]] \n",
            "\n",
            "8. \n",
            " [[ 2 -1  0 15  5 10 20  5  7  8]\n",
            " [ 1  1  1  1  0 10  2 -1  4  5]]\n",
            "9. \n",
            " [[ 2 -1  0 15  5]\n",
            " [ 1  1  1  1  0]\n",
            " [10 20  5  7  8]\n",
            " [10  2 -1  4  5]]\n"
          ]
        }
      ]
    },
    {
      "cell_type": "code",
      "source": [
        "import numpy as np\n",
        "array1 = np.array([2,-1,0,15,5,1,1,1,1,0])\n",
        "print(\"1. \\n\", np.split(array1,2))\n",
        "print(\"2. \\n\", np.array_split(array1,3))"
      ],
      "metadata": {
        "colab": {
          "base_uri": "https://localhost:8080/"
        },
        "id": "ybZrilpBhIVK",
        "outputId": "d5792522-4506-4bc0-8e8f-23f93128b5dc"
      },
      "execution_count": null,
      "outputs": [
        {
          "output_type": "stream",
          "name": "stdout",
          "text": [
            "1. \n",
            " [array([ 2, -1,  0, 15,  5]), array([1, 1, 1, 1, 0])]\n",
            "2. \n",
            " [array([ 2, -1,  0, 15]), array([5, 1, 1]), array([1, 1, 0])]\n"
          ]
        }
      ]
    }
  ]
}